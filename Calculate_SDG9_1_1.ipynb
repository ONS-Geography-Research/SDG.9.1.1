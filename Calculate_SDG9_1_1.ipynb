{
 "cells": [
  {
   "cell_type": "code",
   "execution_count": null,
   "metadata": {},
   "outputs": [],
   "source": [
    "from src.sdg_9_1_1_src.sdg_9_1_1 import run_sdg9_1_1\n",
    "from user_params import UserParams\n",
    "\n",
    "\n",
    "params = UserParams()\n",
    "run_sdg9_1_1(params)"
   ]
  }
 ],
 "metadata": {
  "kernelspec": {
   "display_name": "Python 3",
   "language": "python",
   "name": "python3"
  },
  "language_info": {
   "codemirror_mode": {
    "name": "ipython",
    "version": 3
   },
   "file_extension": ".py",
   "mimetype": "text/x-python",
   "name": "python",
   "nbconvert_exporter": "python",
   "pygments_lexer": "ipython3",
   "version": "3.8.3"
  },
  "vscode": {
   "interpreter": {
    "hash": "5d78556f67417a22150b67cc13e2a039fde86a860c239ec73d9d0ee7eac795e5"
   }
  }
 },
 "nbformat": 4,
 "nbformat_minor": 2
}
