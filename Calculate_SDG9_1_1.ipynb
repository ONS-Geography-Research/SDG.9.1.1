{
 "cells": [
  {
   "cell_type": "code",
   "execution_count": 7,
   "metadata": {},
   "outputs": [
    {
     "name": "stdout",
     "output_type": "stream",
     "text": [
      "============================= test session starts =============================\n",
      "platform win32 -- Python 3.8.3, pytest-5.4.3, py-1.9.0, pluggy-0.13.1\n",
      "rootdir: C:\\Users\\Cusse\\Scripts\\geo_work\\sdg-9-1-1\n",
      "plugins: Faker-22.0.0, hypothesis-6.98.1\n",
      "collected 4 items\n",
      "\n",
      "tests\\test_sdg_9_1_1.py ....                                             [100%]\n",
      "\n",
      "============================== 4 passed in 2.42s ==============================\n"
     ]
    }
   ],
   "source": [
    "!pytest ./tests"
   ]
  },
  {
   "cell_type": "code",
   "execution_count": null,
   "metadata": {},
   "outputs": [],
   "source": []
  }
 ],
 "metadata": {
  "kernelspec": {
   "display_name": "Python 3.8.3 ('base')",
   "language": "python",
   "name": "python3"
  },
  "language_info": {
   "codemirror_mode": {
    "name": "ipython",
    "version": 3
   },
   "file_extension": ".py",
   "mimetype": "text/x-python",
   "name": "python",
   "nbconvert_exporter": "python",
   "pygments_lexer": "ipython3",
   "version": "3.8.3"
  },
  "orig_nbformat": 4,
  "vscode": {
   "interpreter": {
    "hash": "5d78556f67417a22150b67cc13e2a039fde86a860c239ec73d9d0ee7eac795e5"
   }
  }
 },
 "nbformat": 4,
 "nbformat_minor": 2
}
